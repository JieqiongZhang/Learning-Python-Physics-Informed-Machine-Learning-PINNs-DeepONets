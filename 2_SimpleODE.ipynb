{
  "nbformat": 4,
  "nbformat_minor": 0,
  "metadata": {
    "colab": {
      "name": "2.SimpleODE.ipynb",
      "provenance": [],
      "collapsed_sections": [
        "Y61YA90-WIZ1",
        "JksBmhyho5uZ",
        "ZHYqtyYJs3Jv"
      ],
      "machine_shape": "hm",
      "include_colab_link": true
    },
    "kernelspec": {
      "name": "python3",
      "display_name": "Python 3"
    },
    "language_info": {
      "name": "python"
    },
    "accelerator": "GPU"
  },
  "cells": [
    {
      "cell_type": "markdown",
      "metadata": {
        "id": "view-in-github",
        "colab_type": "text"
      },
      "source": [
        "<a href=\"https://colab.research.google.com/github/jdtoscano94/Learning-PINNs-in-Pytorch/blob/main/2_SimpleODE.ipynb\" target=\"_parent\"><img src=\"https://colab.research.google.com/assets/colab-badge.svg\" alt=\"Open In Colab\"/></a>"
      ]
    },
    {
      "cell_type": "markdown",
      "source": [
        "# Libraries"
      ],
      "metadata": {
        "id": "Y61YA90-WIZ1"
      }
    },
    {
      "cell_type": "code",
      "source": [
        " ! pip install pyDOE"
      ],
      "metadata": {
        "colab": {
          "base_uri": "https://localhost:8080/"
        },
        "id": "WZrPCr9GWEAJ",
        "outputId": "f3175c10-1a52-4a80-9f08-3c8522c2fee3"
      },
      "execution_count": null,
      "outputs": [
        {
          "output_type": "stream",
          "name": "stdout",
          "text": [
            "Collecting pyDOE\n",
            "  Downloading pyDOE-0.3.8.zip (22 kB)\n",
            "Requirement already satisfied: numpy in /usr/local/lib/python3.7/dist-packages (from pyDOE) (1.21.5)\n",
            "Requirement already satisfied: scipy in /usr/local/lib/python3.7/dist-packages (from pyDOE) (1.4.1)\n",
            "Building wheels for collected packages: pyDOE\n",
            "  Building wheel for pyDOE (setup.py) ... \u001b[?25l\u001b[?25hdone\n",
            "  Created wheel for pyDOE: filename=pyDOE-0.3.8-py3-none-any.whl size=18184 sha256=a9f552fe60cb1486c580695b4bd98471897ffe1a6b5c1fce37391cabc6eea562\n",
            "  Stored in directory: /root/.cache/pip/wheels/83/ce/8a/87b25c685bfeca1872d13b8dc101e087a9c6e3fb5ebb47022a\n",
            "Successfully built pyDOE\n",
            "Installing collected packages: pyDOE\n",
            "Successfully installed pyDOE-0.3.8\n"
          ]
        }
      ]
    },
    {
      "cell_type": "code",
      "source": [
        "import torch\n",
        "import torch.autograd as autograd         # computation graph\n",
        "from torch import Tensor                  # tensor node in the computation graph\n",
        "import torch.nn as nn                     # neural networks\n",
        "import torch.optim as optim               # optimizers e.g. gradient descent, ADAM, etc.\n",
        "\n",
        "import matplotlib.pyplot as plt\n",
        "import matplotlib.gridspec as gridspec\n",
        "from mpl_toolkits.axes_grid1 import make_axes_locatable\n",
        "from mpl_toolkits.mplot3d import Axes3D\n",
        "import matplotlib.ticker\n",
        "from sklearn.model_selection import train_test_split\n",
        "\n",
        "import numpy as np\n",
        "import time\n",
        "from pyDOE import lhs         #Latin Hypercube Sampling\n",
        "import scipy.io\n",
        "\n",
        "#Set default dtype to float32\n",
        "torch.set_default_dtype(torch.float)\n",
        "\n",
        "#PyTorch random number generator\n",
        "torch.manual_seed(1234)\n",
        "\n",
        "# Random number generators in other libraries\n",
        "np.random.seed(1234)\n",
        "\n",
        "# Device configuration\n",
        "device = torch.device('cuda' if torch.cuda.is_available() else 'cpu')\n",
        "\n",
        "print(device)\n",
        "\n",
        "if device == 'cuda': \n",
        "    print(torch.cuda.get_device_name()) \n"
      ],
      "metadata": {
        "id": "OdYMzuSDi7Js",
        "colab": {
          "base_uri": "https://localhost:8080/"
        },
        "outputId": "45d6864d-5402-44be-92f4-6747f06b95cd"
      },
      "execution_count": null,
      "outputs": [
        {
          "output_type": "stream",
          "name": "stdout",
          "text": [
            "cuda\n"
          ]
        }
      ]
    },
    {
      "cell_type": "markdown",
      "source": [
        "# Tunning Parameters"
      ],
      "metadata": {
        "id": "JksBmhyho5uZ"
      }
    },
    {
      "cell_type": "code",
      "source": [
        "steps=5000\n",
        "lr=1e-3\n",
        "layers = np.array([1,50,50,20,50,50,1]) #5 hidden layers\n",
        "min=0\n",
        "max=2*np.pi\n",
        "total_points=500\n",
        "#Nu: Number of training points (2 as we onlt have 2 boundaries), # Nf: Number of collocation points (Evaluate PDE)\n",
        "Nu=2\n",
        "Nf=250"
      ],
      "metadata": {
        "id": "gL-vSDVLoyV7"
      },
      "execution_count": null,
      "outputs": []
    },
    {
      "cell_type": "markdown",
      "source": [
        "# Problem Setup\n",
        "\n",
        "### **ODE**\n",
        "\n",
        "$$y_x=\\frac{dy}{dx}=cos(x)$$\n",
        "\n",
        "The residual will be:\n",
        "\n",
        "$$f=y_x-cos(x)$$\n",
        "\n",
        "This function will be minimized by the NN\n",
        "\n",
        "**Initial Conditions:**\n",
        "\n",
        "$$y(0)=0$$\n",
        "\n",
        "$$y(2\\pi)=0$$\n",
        "\n",
        "\n",
        "**Solution:**\n",
        "\n",
        "$$\\int dy=\\int cos(x)dx$$\n",
        "\n",
        "$$y=sin(x)+C$$\n",
        "\n",
        "Since: \n",
        "\n",
        "$$y(0)=0=sin(0)+C$$\n",
        "\n",
        "$$C=0$$\n",
        "\n",
        "So: \n",
        "\n",
        "$$y(x)=sin(x)$$"
      ],
      "metadata": {
        "id": "koofMp-5Y-UA"
      }
    },
    {
      "cell_type": "markdown",
      "source": [
        "## Functions"
      ],
      "metadata": {
        "id": "K40IpAXPjS4I"
      }
    },
    {
      "cell_type": "code",
      "source": [
        "def f_BC(x): # This function satisfies the boundry conditions. The same as the real one (To ease the data generation), but we may not have it.\n",
        "  return torch.sin(x)\n",
        "def PDE(x): # The PDE equation. We use it to get the residual in the Neurl Network.\n",
        "  return torch.cos(x)\n"
      ],
      "metadata": {
        "id": "hZFwvWyGs2RE"
      },
      "execution_count": null,
      "outputs": []
    },
    {
      "cell_type": "markdown",
      "source": [
        "### Neural Network"
      ],
      "metadata": {
        "id": "ZHYqtyYJs3Jv"
      }
    },
    {
      "cell_type": "code",
      "source": [
        "\n",
        "class FCN(nn.Module):\n",
        "    ##Neural Network\n",
        "    def __init__(self,layers):\n",
        "        super().__init__() #call __init__ from parent class \n",
        "        'activation function'\n",
        "        self.activation = nn.Tanh()\n",
        "        'loss function'\n",
        "        self.loss_function = nn.MSELoss(reduction ='mean')\n",
        "        'Initialise neural network as a list using nn.Modulelist'  \n",
        "        self.linears = nn.ModuleList([nn.Linear(layers[i], layers[i+1]) for i in range(len(layers)-1)]) \n",
        "        self.iter = 0\n",
        "        'Xavier Normal Initialization'\n",
        "        # std = gain * sqrt(2/(input_dim+output_dim))\n",
        "        for i in range(len(layers)-1):\n",
        "            \n",
        "            # weights from a normal distribution with \n",
        "            # Recommended gain value for tanh = 5/3?\n",
        "            nn.init.xavier_normal_(self.linears[i].weight.data, gain=1.0)\n",
        "            \n",
        "            # set biases to zero\n",
        "            nn.init.zeros_(self.linears[i].bias.data)   \n",
        "    'foward pass'\n",
        "    def forward(self,x):\n",
        "        if torch.is_tensor(x) != True:         \n",
        "            x = torch.from_numpy(x)                \n",
        "        a = x.float()\n",
        "        for i in range(len(layers)-2):  \n",
        "            z = self.linears[i](a)              \n",
        "            a = self.activation(z)    \n",
        "        a = self.linears[-1](a)\n",
        "        return a\n",
        "    'Loss Functions'\n",
        "    #Loss BC\n",
        "    def lossBC(self,x_BC):\n",
        "      loss_BC=self.loss_function(self.forward(x_BC),y_BC(x_BC))\n",
        "      return loss_BC\n",
        "    #Loss PDE\n",
        "    def lossPDE(self,x_PDE):\n",
        "      g=x_PDE.clone()\n",
        "      g.requires_grad=True #Enable differentiation\n",
        "      f=self.forward(g)\n",
        "      f_x=autograd.grad(f,g,torch.ones([x_PDE.shape[0],1]).to(device),retain_graph=True, create_graph=True)[0]\n",
        "      loss_PDE=self.loss_function(f_x,PDE(g))\n",
        "      return loss_PDE\n",
        "      \n",
        "    def loss(self,x_BC,x_PDE):\n",
        "      loss_bc=self.lossBC(x_BC)\n",
        "      loss_pde=self.lossPDE(x_PDE)\n",
        "      return loss_bc+loss_pde\n",
        "\n",
        "    def closure(self):\n",
        "        \n",
        "        optimizer.zero_grad()\n",
        "        \n",
        "        loss = self.lossNN(x_train, y_train)\n",
        "        \n",
        "        loss.backward()\n",
        "                \n",
        "        self.iter += 1\n",
        "        \n",
        "        if self.iter % 100 == 0:\n",
        "        \n",
        "            print(loss)\n",
        "\n",
        "        return loss   "
      ],
      "metadata": {
        "id": "7EZjlbVMi8w0"
      },
      "execution_count": null,
      "outputs": []
    },
    {
      "cell_type": "markdown",
      "source": [
        "# Generate data"
      ],
      "metadata": {
        "id": "pOe9yRvxjakj"
      }
    },
    {
      "cell_type": "code",
      "source": [
        "# get the analytical solution over the full domain\n",
        "x = torch.linspace(min,max,total_points).view(-1,1) #prepare to NN\n",
        "y = f_BC(x)\n",
        "print(x.shape, y.shape)\n"
      ],
      "metadata": {
        "colab": {
          "base_uri": "https://localhost:8080/"
        },
        "id": "Z1V03CRRjRML",
        "outputId": "71b57e65-7a25-4fdd-cc70-fd806b469c6b"
      },
      "execution_count": null,
      "outputs": [
        {
          "output_type": "stream",
          "name": "stdout",
          "text": [
            "torch.Size([500, 1]) torch.Size([500, 1])\n"
          ]
        }
      ]
    },
    {
      "cell_type": "code",
      "source": [
        "fig, ax1 = plt.subplots()\n",
        "ax1.plot(x.detach().numpy(),y.detach().numpy(),color='blue',label='Real_Train')\n",
        "#ax1.plot(x_train.detach().numpy(),yh.detach().numpy(),color='red',label='Pred_Train')\n",
        "ax1.set_xlabel('x',color='black')\n",
        "ax1.set_ylabel('f(x)',color='black')\n",
        "ax1.tick_params(axis='y', color='black')\n",
        "ax1.legend(loc = 'upper left')"
      ],
      "metadata": {
        "colab": {
          "base_uri": "https://localhost:8080/",
          "height": 296
        },
        "id": "OE4RUZ27p0fT",
        "outputId": "34169265-2a58-42fb-a0cf-328e5fdcb6d2"
      },
      "execution_count": null,
      "outputs": [
        {
          "output_type": "execute_result",
          "data": {
            "text/plain": [
              "<matplotlib.legend.Legend at 0x7f47908b23d0>"
            ]
          },
          "metadata": {},
          "execution_count": 52
        },
        {
          "output_type": "display_data",
          "data": {
            "text/plain": [
              "<Figure size 432x288 with 1 Axes>"
            ],
            "image/png": "[encoded data removed]"
          },
          "metadata": {
            "needs_background": "light"
          }
        }
      ]
    },
    {
      "cell_type": "code",
      "source": [
        "#def get_training_data(x):\n",
        "#Nu: Number of training point, # Nf: Number of colloction points\n",
        "# Set Boundary conditions:\n",
        "BC_1=x[0,:]\n",
        "BC_2=x[-1,:]\n",
        "# Total Training points BC1+BC2\n",
        "all_train=torch.vstack([BC_1,BC_2])\n",
        "#Select Nu points\n",
        "idx = np.random.choice(all_train.shape[0], Nu, replace=False) \n",
        "x_BC=all_train[idx]\n",
        "#Select Nf points\n",
        "# Latin Hypercube sampling for collocation points \n",
        "x_PDE = BC_1 + (BC_2-BC_1)*lhs(1,Nf)\n",
        "x_PDE = torch.vstack((x_PDE,x_BC)) "
      ],
      "metadata": {
        "id": "_JMjSMOKdlWt"
      },
      "execution_count": null,
      "outputs": []
    },
    {
      "cell_type": "code",
      "source": [
        "x_PDE.shape"
      ],
      "metadata": {
        "colab": {
          "base_uri": "https://localhost:8080/"
        },
        "id": "SxRNKJ4Ejif8",
        "outputId": "312349bd-6a98-4953-af11-d2b41fc19628"
      },
      "execution_count": null,
      "outputs": [
        {
          "output_type": "execute_result",
          "data": {
            "text/plain": [
              "torch.Size([252, 1])"
            ]
          },
          "metadata": {},
          "execution_count": 76
        }
      ]
    },
    {
      "cell_type": "markdown",
      "source": [
        "# Train Neural Network"
      ],
      "metadata": {
        "id": "I82eH55ElVSq"
      }
    },
    {
      "cell_type": "code",
      "source": [
        "#Store tensors to GPU\n",
        "torch.manual_seed(123)\n",
        "x_PDE=x_PDE.float().to(device)\n",
        "x_BC=x_BC.to(device)\n",
        "#Create Model\n",
        "model = FCN(layers)\n",
        "print(model)\n",
        "model.to(device)\n",
        "params = list(model.parameters())\n",
        "optimizer = torch.optim.Adam(model.parameters(),lr=lr,amsgrad=False)\n",
        "start_time = time.time()"
      ],
      "metadata": {
        "id": "8KZvgKcalOVV",
        "colab": {
          "base_uri": "https://localhost:8080/"
        },
        "outputId": "ea20d5af-d4ae-458b-99be-443940db7596"
      },
      "execution_count": null,
      "outputs": [
        {
          "output_type": "stream",
          "name": "stdout",
          "text": [
            "FCN(\n",
            "  (activation): Tanh()\n",
            "  (loss_function): MSELoss()\n",
            "  (linears): ModuleList(\n",
            "    (0): Linear(in_features=1, out_features=50, bias=True)\n",
            "    (1): Linear(in_features=50, out_features=50, bias=True)\n",
            "    (2): Linear(in_features=50, out_features=20, bias=True)\n",
            "    (3): Linear(in_features=20, out_features=50, bias=True)\n",
            "    (4): Linear(in_features=50, out_features=50, bias=True)\n",
            "    (5): Linear(in_features=50, out_features=1, bias=True)\n",
            "  )\n",
            ")\n"
          ]
        }
      ]
    },
    {
      "cell_type": "code",
      "source": [
        "for i in range(steps):\n",
        "    yh = model(x_PDE)\n",
        "    loss = model.loss(x_PDE,x_BC)# use mean squared error\n",
        "    optimizer.zero_grad()\n",
        "    loss.backward()\n",
        "    optimizer.step()\n",
        "    if i%(steps/10)==0:\n",
        "      print(loss)"
      ],
      "metadata": {
        "id": "KM3GHnh9ljCh",
        "colab": {
          "base_uri": "https://localhost:8080/"
        },
        "outputId": "9d3b1ebd-5696-4338-ffb9-de0697ee0508"
      },
      "execution_count": null,
      "outputs": [
        {
          "output_type": "stream",
          "name": "stdout",
          "text": [
            "tensor(1.5140, device='cuda:0', grad_fn=<AddBackward0>)\n",
            "tensor(0.0001, device='cuda:0', grad_fn=<AddBackward0>)\n",
            "tensor(8.7585e-05, device='cuda:0', grad_fn=<AddBackward0>)\n",
            "tensor(7.8613e-05, device='cuda:0', grad_fn=<AddBackward0>)\n",
            "tensor(6.9138e-05, device='cuda:0', grad_fn=<AddBackward0>)\n",
            "tensor(5.8905e-05, device='cuda:0', grad_fn=<AddBackward0>)\n",
            "tensor(0.0001, device='cuda:0', grad_fn=<AddBackward0>)\n",
            "tensor(3.8476e-05, device='cuda:0', grad_fn=<AddBackward0>)\n",
            "tensor(2.8963e-05, device='cuda:0', grad_fn=<AddBackward0>)\n",
            "tensor(0.0068, device='cuda:0', grad_fn=<AddBackward0>)\n"
          ]
        }
      ]
    },
    {
      "cell_type": "markdown",
      "source": [
        "### Plots"
      ],
      "metadata": {
        "id": "kpRh89zM8Te8"
      }
    },
    {
      "cell_type": "code",
      "source": [
        "# Function\n",
        "yh=model(x.to(device))\n",
        "y=f_BC(x)\n",
        "#Error\n",
        "print(model.lossBC(x.to(device)))"
      ],
      "metadata": {
        "id": "6kJ3gQ6WYhp9",
        "colab": {
          "base_uri": "https://localhost:8080/"
        },
        "outputId": "bab80b83-ed74-4787-a58e-1720d784f95f"
      },
      "execution_count": null,
      "outputs": [
        {
          "output_type": "stream",
          "name": "stdout",
          "text": [
            "tensor(1.9433e-05, device='cuda:0', grad_fn=<MseLossBackward0>)\n"
          ]
        }
      ]
    },
    {
      "cell_type": "code",
      "source": [
        "# Derivative\n",
        "g=x.to(device)\n",
        "g=g.clone()\n",
        "g.requires_grad=True #Enable differentiation\n",
        "f=model(g)\n",
        "f_x=autograd.grad(f,g,torch.ones([g.shape[0],1]).to(device),retain_graph=True, create_graph=True)[0]"
      ],
      "metadata": {
        "id": "jEUUqEjr8Sim"
      },
      "execution_count": null,
      "outputs": []
    },
    {
      "cell_type": "code",
      "source": [
        "# Detach from GPU\n",
        "y_plot=y.detach().numpy()\n",
        "yh_plot=yh.detach().cpu().numpy()\n",
        "f_x_plot=f_x.detach().cpu().numpy()"
      ],
      "metadata": {
        "id": "udWgFd6mqY7B"
      },
      "execution_count": null,
      "outputs": []
    },
    {
      "cell_type": "code",
      "source": [
        "# Plot\n",
        "fig, ax1 = plt.subplots()\n",
        "ax1.plot(x,y_plot,color='blue',label='Real')\n",
        "ax1.plot(x,yh_plot,color='red',label='Predicted')\n",
        "ax1.plot(x,f_x_plot,color='green',label='Derivative')\n",
        "ax1.set_xlabel('x',color='black')\n",
        "ax1.set_ylabel('f(x)',color='black')\n",
        "ax1.tick_params(axis='y', color='black')\n",
        "ax1.legend(loc = 'upper left')"
      ],
      "metadata": {
        "id": "M9YZDGcpodnQ",
        "colab": {
          "base_uri": "https://localhost:8080/",
          "height": 296
        },
        "outputId": "bcdfbf65-8ac2-425f-fc09-0b47de1dbd77"
      },
      "execution_count": null,
      "outputs": [
        {
          "output_type": "execute_result",
          "data": {
            "text/plain": [
              "<matplotlib.legend.Legend at 0x7f47905dac90>"
            ]
          },
          "metadata": {},
          "execution_count": 98
        },
        {
          "output_type": "display_data",
          "data": {
            "text/plain": [
              "<Figure size 432x288 with 1 Axes>"
            ],
            "image/png": "[encoded data removed]"
          },
          "metadata": {
            "needs_background": "light"
          }
        }
      ]
    },
    {
      "cell_type": "code",
      "source": [
        ""
      ],
      "metadata": {
        "id": "shpAT3p4r4uE"
      },
      "execution_count": null,
      "outputs": []
    }
  ]
}